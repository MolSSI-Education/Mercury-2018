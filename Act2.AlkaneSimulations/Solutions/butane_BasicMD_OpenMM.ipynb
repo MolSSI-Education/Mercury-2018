{
 "cells": [
  {
   "cell_type": "code",
   "execution_count": 1,
   "metadata": {},
   "outputs": [],
   "source": [
    "from simtk.openmm import app\n",
    "import simtk.openmm as mm\n",
    "from simtk import unit\n",
    "from sys import stdout\n",
    "import time as time\n",
    "\n",
    "# what follows is from the OpenMM script builder\n",
    "# with some minor modifications..."
   ]
  },
  {
   "cell_type": "markdown",
   "metadata": {},
   "source": [
    "## Simulation setup"
   ]
  },
  {
   "cell_type": "code",
   "execution_count": 2,
   "metadata": {},
   "outputs": [],
   "source": [
    "# read in a starting structure for ethane and the\n",
    "# corresponding force field file\n",
    "pdb = app.PDBFile('butane.pdb')\n",
    "forcefield = app.ForceField('butane.gaff2.xml')\n",
    "\n",
    "# setup system by taking topology from pdb file;\n",
    "# run gas phase simulation with 2 fs time step (using SHAKE)\n",
    "# at 298.15 K using a Langevin thermostat (integrator) with\n",
    "# coupling constant of 5.0 ps^-1\n",
    "system = forcefield.createSystem(pdb.topology, nonbondedMethod=app.NoCutoff, \n",
    "                                 constraints=app.HBonds)\n",
    "integrator = mm.LangevinIntegrator(298.15*unit.kelvin, 5.0/unit.picoseconds, \n",
    "                                   2.0*unit.femtoseconds)\n",
    "integrator.setConstraintTolerance(1e-5)\n",
    "\n",
    "platform = mm.Platform.getPlatformByName('Reference')\n",
    "simulation = app.Simulation(pdb.topology, system, integrator, platform)\n",
    "simulation.context.setPositions(pdb.positions)"
   ]
  },
  {
   "cell_type": "markdown",
   "metadata": {},
   "source": [
    "## Energy minimization\n",
    "\n",
    "This reduces the potential energy of the system before beginning dynamics. This eliminates \"bad\" (i.e., overly close) contacts and generally leads to more stable simulation behavior."
   ]
  },
  {
   "cell_type": "code",
   "execution_count": 3,
   "metadata": {},
   "outputs": [
    {
     "name": "stdout",
     "output_type": "stream",
     "text": [
      "Minimizing...\n",
      "Potential energy before minimization is 5.797528654036221 kJ/mol\n",
      "Potential energy after minimization is 5.295941643198585 kJ/mol\n"
     ]
    }
   ],
   "source": [
    "print('Minimizing...')\n",
    "\n",
    "st = simulation.context.getState(getPositions=True,getEnergy=True)\n",
    "print(\"Potential energy before minimization is %s\" % st.getPotentialEnergy())\n",
    "\n",
    "simulation.minimizeEnergy(maxIterations=100)\n",
    "\n",
    "st = simulation.context.getState(getPositions=True,getEnergy=True)\n",
    "print(\"Potential energy after minimization is %s\" % st.getPotentialEnergy())"
   ]
  },
  {
   "cell_type": "markdown",
   "metadata": {},
   "source": [
    "## Equilibration\n",
    "\n",
    "We will run a (very) short equilibration simulation to bring the molecule up to our desired temperature.  If this were a periodic system, we would also aim to bring the density/volume to equilibrium at the desired pressure."
   ]
  },
  {
   "cell_type": "code",
   "execution_count": 4,
   "metadata": {},
   "outputs": [
    {
     "name": "stdout",
     "output_type": "stream",
     "text": [
      "Equilibrating...\n",
      "#\"Step\",\"Potential Energy (kJ/mole)\",\"Temperature (K)\"\n",
      "250,35.062097024444945,211.58505274228852\n",
      "500,35.786881351135825,200.58484988702895\n",
      "750,49.057564806238034,307.81745324432507\n",
      "1000,44.02890133387555,331.815706017254\n",
      "1250,53.140572881853466,256.190067265853\n",
      "1500,30.086844676449854,248.64607553034438\n",
      "1750,44.5767483186951,252.7436171388968\n",
      "2000,43.97547562839223,267.2456771730894\n",
      "2250,24.63659291882071,452.42899730678755\n",
      "2500,42.21678782339953,233.83832710271466\n",
      "2750,39.381501643180655,275.1681270967201\n",
      "3000,44.86036388002023,313.1517403867972\n",
      "3250,82.03839663151916,445.9352562169752\n",
      "3500,44.20467842160067,368.1460895565275\n",
      "3750,48.07059865993829,288.7320418022091\n",
      "4000,53.404905591024466,436.1702080039039\n",
      "4250,62.64006300119624,321.21261750011\n",
      "4500,44.908758398585455,317.6377886273449\n",
      "4750,35.8222373104688,225.54647326791914\n",
      "5000,43.824178693171355,283.9813775591581\n"
     ]
    }
   ],
   "source": [
    "print('Equilibrating...')\n",
    "\n",
    "simulation.reporters.append(app.StateDataReporter(stdout, 250, step=True, \n",
    "    potentialEnergy=True, temperature=True, separator=','))\n",
    "simulation.context.setVelocitiesToTemperature(150.0*unit.kelvin)\n",
    "simulation.step(5000)"
   ]
  },
  {
   "cell_type": "markdown",
   "metadata": {},
   "source": [
    "## Production\n",
    "\n",
    "Now we run a long MD simulation with parameters that are identical to the equilibration phase (other than simulation length, of course!).  We will also save a trajectory file (i.e., corodinats vs. time) of this simulation that we can analyze afterward using MDTraj (or other trajectory analysis tools)."
   ]
  },
  {
   "cell_type": "code",
   "execution_count": 5,
   "metadata": {},
   "outputs": [
    {
     "name": "stdout",
     "output_type": "stream",
     "text": [
      "Running Production...\n",
      "#\"Step\",\"Time (ps)\",\"Potential Energy (kJ/mole)\",\"Temperature (K)\",\"Speed (ns/day)\"\n",
      "500000,999.9999999901769,46.97980732476568,461.66813779101926,0\n",
      "1000000,1999.9999999665301,41.52183358215743,282.20631069504077,1.03e+04\n",
      "1500000,2999.9999999428833,31.45197911054147,355.32239064936596,1.01e+04\n",
      "2000000,3999.9999999192364,67.52978836853917,169.1960895184073,1e+04\n",
      "2500000,5000.000000101135,50.977210543366965,340.3034116830316,9.9e+03\n",
      "3000000,6000.000000304862,38.533308500456236,288.3907288433284,9.96e+03\n",
      "3500000,7000.0000005085885,75.48487105697616,310.9162751679937,9.92e+03\n",
      "4000000,8000.000000712315,55.02533295404491,272.10828087866275,9.81e+03\n",
      "4500000,9000.000000916041,25.886724524864402,290.8678921279834,9.95e+03\n",
      "5000000,10000.000001119768,36.73644398508894,279.4022019300137,9.97e+03\n",
      "5500000,11000.000001323495,51.414780482019026,275.8323926957754,1e+04\n",
      "6000000,12000.000001527222,46.22195056833969,199.273291923906,1.01e+04\n",
      "6500000,13000.000001730948,49.64417407545238,328.1252047356712,1e+04\n",
      "7000000,14000.000001934675,44.65104188216699,297.91471555068273,1e+04\n",
      "7500000,15000.000002138402,40.74603369261838,275.00905158389514,1.01e+04\n",
      "8000000,16000.000002342129,41.90567069027037,244.0819292080184,1.01e+04\n",
      "8500000,17000.000002545854,36.89076551686888,208.52967831001587,1.01e+04\n",
      "9000000,18000.00000274958,36.23042066105284,206.06807142313724,1.01e+04\n",
      "9500000,19000.000002953308,30.873343201838424,282.9565190102656,1.02e+04\n",
      "10000000,20000.000003157034,25.817319346442524,329.1922393290264,1.02e+04\n",
      "10500000,21000.00000336076,33.232693146976665,230.3303913078355,1.02e+04\n",
      "11000000,22000.000003564488,45.72616122480451,425.08072842336105,1.02e+04\n",
      "11500000,23000.000003768215,42.02159070741614,366.53224412454654,1.03e+04\n",
      "12000000,24000.00000397194,45.922593518231906,225.9087976124755,1.03e+04\n",
      "12500000,25000.00000417567,61.864594616362304,300.01883451121154,1.03e+04\n",
      "13000000,26000.000004379395,29.205812784043935,233.33723601811025,1.03e+04\n",
      "13500000,27000.000004583122,48.07824770191544,306.1832360361687,1.03e+04\n",
      "14000000,28000.00000478685,37.17164290162271,284.8653689962543,1.03e+04\n",
      "14500000,29000.000004990576,47.60823791168025,264.9587939943141,1.03e+04\n",
      "15000000,30000.000005194303,34.44928479191117,422.03999813550854,1.03e+04\n",
      "15500000,31000.00000539803,53.64522214344187,286.89520482913326,1.03e+04\n",
      "16000000,32000.000005601756,24.118521179541904,299.6585545609221,1.03e+04\n",
      "16500000,33000.00000580548,47.11138413937128,350.383479964555,1.03e+04\n",
      "17000000,34000.000006009206,22.572737776975238,324.2060060531376,1.03e+04\n",
      "17500000,35000.00000621293,41.40903065569787,348.43032056489136,1.03e+04\n",
      "18000000,36000.00000641666,54.443296538362986,265.2513361552854,1.03e+04\n",
      "18500000,37000.00000662039,40.23375131575351,321.1930716190571,1.03e+04\n",
      "19000000,38000.00000682411,53.58457177075203,100.68005724607615,1.03e+04\n",
      "19500000,39000.00000702784,33.62989618263626,462.81473368333167,1.03e+04\n",
      "20000000,40000.00000723157,49.87672768085678,179.60338231302688,1.03e+04\n",
      "Done!\n",
      "Time required for simulation: 334.57377672195435 seconds\n"
     ]
    }
   ],
   "source": [
    "print('Running Production...')\n",
    "\n",
    "tinit=time.time()\n",
    "simulation.reporters.clear()\n",
    "# output basic simulation information below every 500000 steps/1 ns\n",
    "simulation.reporters.append(app.StateDataReporter(stdout, 500000, \n",
    "    step=True, time=True, potentialEnergy=True, temperature=True, \n",
    "    speed=True, separator=','))\n",
    "# write out a trajectory (i.e., coordinates vs. time) to a DCD\n",
    "# file every 100 steps/0.2 ps\n",
    "simulation.reporters.append(app.DCDReporter('butane_sim.dcd', 100))\n",
    "\n",
    "# run the simulation for 2.0x10^7 steps/40 ns\n",
    "simulation.step(20000000)\n",
    "tfinal=time.time()\n",
    "print('Done!')\n",
    "print('Time required for simulation:', tfinal-tinit, 'seconds')"
   ]
  },
  {
   "cell_type": "code",
   "execution_count": null,
   "metadata": {},
   "outputs": [],
   "source": []
  }
 ],
 "metadata": {
  "kernelspec": {
   "display_name": "Python 3",
   "language": "python",
   "name": "python3"
  },
  "language_info": {
   "codemirror_mode": {
    "name": "ipython",
    "version": 3
   },
   "file_extension": ".py",
   "mimetype": "text/x-python",
   "name": "python",
   "nbconvert_exporter": "python",
   "pygments_lexer": "ipython3",
   "version": "3.6.5"
  }
 },
 "nbformat": 4,
 "nbformat_minor": 2
}
