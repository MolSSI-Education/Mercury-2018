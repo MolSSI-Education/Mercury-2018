{
 "cells": [
  {
   "cell_type": "code",
   "execution_count": 1,
   "metadata": {},
   "outputs": [],
   "source": [
    "from simtk.openmm import app\n",
    "import simtk.openmm as mm\n",
    "from simtk import unit\n",
    "from sys import stdout\n",
    "import time as time"
   ]
  },
  {
   "cell_type": "markdown",
   "metadata": {},
   "source": [
    "## Simulation setup"
   ]
  },
  {
   "cell_type": "code",
   "execution_count": 2,
   "metadata": {},
   "outputs": [],
   "source": [
    "prmtop = app.AmberPrmtopFile('BPTI_gas.prmtop')\n",
    "inpcrd = app.AmberInpcrdFile('BPTI_gas.inpcrd')\n",
    "\n",
    "system = prmtop.createSystem(nonbondedMethod=app.NoCutoff, constraints=None)\n",
    "integrator = mm.LangevinIntegrator(298.15*unit.kelvin, 1.0/unit.picoseconds, \n",
    "    1.0*unit.femtoseconds)\n",
    "\n",
    "platform = mm.Platform.getPlatformByName('CPU')\n",
    "simulation = app.Simulation(prmtop.topology, system, integrator, platform)\n",
    "simulation.context.setPositions(inpcrd.positions)"
   ]
  },
  {
   "cell_type": "markdown",
   "metadata": {},
   "source": [
    "## Energy minimization"
   ]
  },
  {
   "cell_type": "code",
   "execution_count": 3,
   "metadata": {},
   "outputs": [
    {
     "name": "stdout",
     "output_type": "stream",
     "text": [
      "Potential energy before minimization is -2108.982628950387 kJ/mol\n",
      "Minimizing...\n",
      "Potential energy after minimization is -5073.176745362812 kJ/mol\n"
     ]
    }
   ],
   "source": [
    "st = simulation.context.getState(getPositions=True,getEnergy=True)\n",
    "print(\"Potential energy before minimization is %s\" % st.getPotentialEnergy())\n",
    "\n",
    "print('Minimizing...')\n",
    "simulation.minimizeEnergy(maxIterations=100)\n",
    "\n",
    "st = simulation.context.getState(getPositions=True,getEnergy=True)\n",
    "print(\"Potential energy after minimization is %s\" % st.getPotentialEnergy())"
   ]
  },
  {
   "cell_type": "markdown",
   "metadata": {},
   "source": [
    "## Equilibration (brief!)"
   ]
  },
  {
   "cell_type": "code",
   "execution_count": 4,
   "metadata": {},
   "outputs": [
    {
     "name": "stdout",
     "output_type": "stream",
     "text": [
      "Equilibrating...\n",
      "Done!\n"
     ]
    }
   ],
   "source": [
    "simulation.context.setVelocitiesToTemperature(298.15*unit.kelvin)\n",
    "print('Equilibrating...')\n",
    "simulation.step(1000)\n",
    "print('Done!')"
   ]
  },
  {
   "cell_type": "markdown",
   "metadata": {},
   "source": [
    "## Production"
   ]
  },
  {
   "cell_type": "code",
   "execution_count": 5,
   "metadata": {},
   "outputs": [
    {
     "name": "stdout",
     "output_type": "stream",
     "text": [
      "Running Production...\n",
      "#\"Step\"\t\"Time (ps)\"\t\"Potential Energy (kJ/mole)\"\t\"Temperature (K)\"\t\"Speed (ns/day)\"\n",
      "1250\t1.2499999999999731\t-3195.9158598032036\t281.21486080243955\t0\n",
      "1500\t1.4999999999999456\t-3069.091379717989\t291.2978292809881\t5.79\n",
      "1750\t1.749999999999918\t-3091.0191534139713\t303.29022389181273\t5.89\n",
      "2000\t1.9999999999998905\t-3020.211314437227\t292.4791472408793\t5.62\n",
      "2250\t2.249999999999863\t-3069.568076612484\t300.87350446797655\t5.32\n",
      "2500\t2.4999999999998357\t-3054.734889643838\t293.40895254954535\t5.3\n",
      "2750\t2.749999999999808\t-3182.7126507253643\t300.19316447041916\t5.35\n",
      "3000\t2.9999999999997806\t-3134.07692516566\t299.00523225118224\t5.35\n",
      "3250\t3.249999999999753\t-3084.5665143787674\t294.6905071769165\t5.36\n",
      "3500\t3.4999999999997256\t-3088.2552816555335\t287.1261135399029\t5.38\n",
      "3750\t3.749999999999698\t-3204.359079271292\t311.05528742652456\t5.38\n",
      "4000\t3.9999999999996705\t-3059.5513129293113\t314.3251868807196\t5.39\n",
      "4250\t4.249999999999754\t-2940.1045801153577\t316.6742135542288\t5.4\n",
      "4500\t4.4999999999998375\t-2885.054412899688\t300.48851229925594\t5.38\n",
      "4750\t4.749999999999921\t-3053.810904377323\t306.1508532271461\t5.35\n",
      "5000\t5.000000000000004\t-2944.8314085401407\t296.0008091598833\t5.36\n",
      "5250\t5.250000000000088\t-3126.1550618978144\t301.77770492343996\t5.36\n",
      "5500\t5.500000000000171\t-3169.040273360173\t292.9367059671542\t5.37\n",
      "5750\t5.750000000000255\t-3174.787374145096\t304.92553982461357\t5.35\n",
      "6000\t6.000000000000338\t-3018.7517664568213\t286.770250900887\t5.36\n",
      "6250\t6.250000000000422\t-2903.335036848406\t288.9085230499434\t5.34\n",
      "6500\t6.500000000000505\t-3000.193267342126\t298.6804422396432\t5.31\n",
      "6750\t6.750000000000589\t-2966.4071969867964\t301.95636855144227\t5.27\n",
      "7000\t7.000000000000672\t-2896.3409604537283\t304.54002619973164\t5.28\n",
      "7250\t7.250000000000756\t-3186.709402033014\t322.4658266519081\t5.29\n",
      "7500\t7.500000000000839\t-3007.1725334140556\t295.2712831468122\t5.3\n",
      "7750\t7.750000000000923\t-3069.7933377429144\t306.0929545959182\t5.32\n",
      "8000\t8.000000000001005\t-3177.5331702617914\t306.6509042161882\t5.33\n",
      "8250\t8.250000000000867\t-3095.853001303728\t309.62647528762903\t5.33\n",
      "8500\t8.500000000000728\t-3074.9351608901015\t306.9449384768154\t5.32\n",
      "8750\t8.75000000000059\t-2982.541196133081\t307.7459093556099\t5.31\n",
      "9000\t9.000000000000451\t-2947.1879215796907\t297.596927175106\t5.32\n",
      "9250\t9.250000000000313\t-2830.0792625779504\t293.7666227426069\t5.33\n",
      "9500\t9.500000000000174\t-2928.130915478312\t304.4073787636173\t5.34\n",
      "9750\t9.750000000000036\t-2940.6819943612936\t308.91827133280117\t5.36\n",
      "10000\t9.999999999999897\t-2938.041552736946\t312.2066948779066\t5.37\n",
      "Done!\n",
      "Time required for simulation: 144.49478197097778 seconds\n"
     ]
    }
   ],
   "source": [
    "simulation.reporters.append(app.DCDReporter('BPTI_sim.dcd', 1))\n",
    "simulation.reporters.append(app.StateDataReporter(stdout, 250, step=True, time=True, \n",
    "    potentialEnergy=True, temperature=True, speed=True, separator='\\t'))\n",
    "\n",
    "tinit=time.time()\n",
    "print('Running Production...')\n",
    "simulation.step(9000)\n",
    "tfinal=time.time()\n",
    "print('Done!')\n",
    "print('Time required for simulation:', tfinal-tinit, 'seconds')"
   ]
  },
  {
   "cell_type": "code",
   "execution_count": null,
   "metadata": {
    "collapsed": true
   },
   "outputs": [],
   "source": []
  }
 ],
 "metadata": {
  "kernelspec": {
   "display_name": "Python 3",
   "language": "python",
   "name": "python3"
  },
  "language_info": {
   "codemirror_mode": {
    "name": "ipython",
    "version": 3
   },
   "file_extension": ".py",
   "mimetype": "text/x-python",
   "name": "python",
   "nbconvert_exporter": "python",
   "pygments_lexer": "ipython3",
   "version": "3.6.5"
  }
 },
 "nbformat": 4,
 "nbformat_minor": 2
}
