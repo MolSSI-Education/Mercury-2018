{
 "cells": [
  {
   "cell_type": "code",
   "execution_count": null,
   "metadata": {},
   "outputs": [],
   "source": [
    "import mdtraj as md\n",
    "import numpy as np\n",
    "import matplotlib.pyplot as plt\n",
    "import nglview as ngl\n",
    "%matplotlib inline"
   ]
  },
  {
   "cell_type": "markdown",
   "metadata": {},
   "source": [
    "## Read in the MD trajectory\n",
    "\n",
    "Below we read in the production simulation trajectory using the topology available in the Amber prmtop file:"
   ]
  },
  {
   "cell_type": "code",
   "execution_count": null,
   "metadata": {},
   "outputs": [],
   "source": [
    "traj = md.load('BPTI_sim.dcd', top='BPTI_gas.prmtop')\n",
    "atoms, bonds = traj.topology.to_dataframe()\n",
    "atoms[:10] # there are many more!"
   ]
  },
  {
   "cell_type": "code",
   "execution_count": null,
   "metadata": {},
   "outputs": [],
   "source": [
    "# find all of the backbone atoms for residues 21-23\n",
    "print('N atoms for residues 21 to 23 are:')\n",
    "print(traj.topology.select('resid 20 to 22 and name N')) # beware the zero-indexing of Python!\n",
    "print('CA atoms for residues 21 to 23 are:')\n",
    "print(traj.topology.select('resid 20 to 22 and name CA'))\n",
    "print('C atoms for residues 21 to 23 are:')\n",
    "print(traj.topology.select('resid 20 to 22 and name C'))\n",
    "print('All atoms of residue 22 are:')\n",
    "print(atoms[349:369])"
   ]
  },
  {
   "cell_type": "markdown",
   "metadata": {},
   "source": [
    "## Analyzing the N-C$\\alpha$ and N-H bonds"
   ]
  },
  {
   "cell_type": "code",
   "execution_count": null,
   "metadata": {},
   "outputs": [],
   "source": [
    "bond_indices = [349, 351]\n",
    "NClength = md.compute_distances(traj, [bond_indices])\n",
    "\n",
    "tstart = 5000 # start at step 5000\n",
    "dt = 500 # plot over 0.5 ps\n",
    "\n",
    "plt.plot(10*NClength[tstart:tstart+dt], color='Tomato')\n",
    "# note above that we have multiplied NClength by 10 to convert from nm to Å\n",
    "plt.title(r'N-C$\\alpha$ bond length')\n",
    "plt.xlabel('Time (fs)')\n",
    "plt.ylabel(r'Bond length ($\\AA$)')\n",
    "plt.show()\n",
    "\n",
    "## you do the rest! ##"
   ]
  },
  {
   "cell_type": "markdown",
   "metadata": {},
   "source": [
    "## Analyzing the N-C$\\alpha$-C bond angle"
   ]
  },
  {
   "cell_type": "code",
   "execution_count": null,
   "metadata": {},
   "outputs": [],
   "source": [
    "## all you! ##\n",
    "## remember to convert the angle to degrees from radians ##"
   ]
  },
  {
   "cell_type": "markdown",
   "metadata": {
    "collapsed": true
   },
   "source": [
    "## Analyzing the backbone torsions ($\\phi$,$\\psi$, $\\omega$)"
   ]
  },
  {
   "cell_type": "code",
   "execution_count": null,
   "metadata": {},
   "outputs": [],
   "source": [
    "## all you, too! ##\n",
    "## remember to analyze 2.0 ps of data instead of 0.5 ps ##"
   ]
  },
  {
   "cell_type": "code",
   "execution_count": null,
   "metadata": {},
   "outputs": [],
   "source": []
  }
 ],
 "metadata": {
  "kernelspec": {
   "display_name": "Python 3",
   "language": "python",
   "name": "python3"
  },
  "language_info": {
   "codemirror_mode": {
    "name": "ipython",
    "version": 3
   },
   "file_extension": ".py",
   "mimetype": "text/x-python",
   "name": "python",
   "nbconvert_exporter": "python",
   "pygments_lexer": "ipython3",
   "version": "3.6.5"
  }
 },
 "nbformat": 4,
 "nbformat_minor": 2
}
