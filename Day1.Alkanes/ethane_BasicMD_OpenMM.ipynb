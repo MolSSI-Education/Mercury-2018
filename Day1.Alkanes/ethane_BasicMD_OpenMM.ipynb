{
 "cells": [
  {
   "cell_type": "code",
   "execution_count": null,
   "metadata": {},
   "outputs": [],
   "source": [
    "from simtk.openmm import app\n",
    "import simtk.openmm as mm\n",
    "from simtk import unit\n",
    "from sys import stdout\n",
    "import time as time\n",
    "\n",
    "# what follows is from the OpenMM script builder\n",
    "# with some minor modifications..."
   ]
  },
  {
   "cell_type": "markdown",
   "metadata": {},
   "source": [
    "## Simulation setup"
   ]
  },
  {
   "cell_type": "code",
   "execution_count": null,
   "metadata": {},
   "outputs": [],
   "source": [
    "# read in a starting structure for ethane and the\n",
    "# corresponding force field file\n",
    "pdb = app.PDBFile('ethane.pdb')\n",
    "forcefield = app.ForceField('ethane.gaff2.xml')\n",
    "\n",
    "# setup system by taking topology from pdb file;\n",
    "# run gas phase simulation with 2 fs time step (using SHAKE)\n",
    "# at 298.15 K using a Langevin thermostat (integrator) with\n",
    "# coupling constant of 5.0 ps^-1\n",
    "system = forcefield.createSystem(pdb.topology, nonbondedMethod=app.NoCutoff, \n",
    "                                 constraints=app.HBonds)\n",
    "integrator = mm.LangevinIntegrator(298.15*unit.kelvin, 5.0/unit.picoseconds, \n",
    "                                   2.0*unit.femtoseconds)\n",
    "integrator.setConstraintTolerance(1e-5)\n",
    "\n",
    "platform = mm.Platform.getPlatformByName('Reference')\n",
    "simulation = app.Simulation(pdb.topology, system, integrator, platform)\n",
    "simulation.context.setPositions(pdb.positions)"
   ]
  },
  {
   "cell_type": "markdown",
   "metadata": {},
   "source": [
    "## Energy minimization\n",
    "\n",
    "This reduces the potential energy of the system before beginning dynamics. This eliminates \"bad\" (i.e., overly close) contacts and generally leads to more stable simulation behavior."
   ]
  },
  {
   "cell_type": "code",
   "execution_count": null,
   "metadata": {},
   "outputs": [],
   "source": [
    "print('Minimizing...')\n",
    "\n",
    "st = simulation.context.getState(getPositions=True,getEnergy=True)\n",
    "print(\"Potential energy before minimization is %s\" % st.getPotentialEnergy())\n",
    "\n",
    "simulation.minimizeEnergy(maxIterations=100)\n",
    "\n",
    "st = simulation.context.getState(getPositions=True,getEnergy=True)\n",
    "print(\"Potential energy after minimization is %s\" % st.getPotentialEnergy())"
   ]
  },
  {
   "cell_type": "markdown",
   "metadata": {},
   "source": [
    "## Equilibration\n",
    "\n",
    "We will run a (very) short equilibration simulation to bring the molecule up to our desired temperature.  If this were a periodic system, we would also aim to bring the density/volume to equilibrium at the desired pressure."
   ]
  },
  {
   "cell_type": "code",
   "execution_count": null,
   "metadata": {},
   "outputs": [],
   "source": [
    "print('Equilibrating...')\n",
    "\n",
    "simulation.reporters.append(app.StateDataReporter(stdout, 100, step=True, \n",
    "    potentialEnergy=True, temperature=True, separator=','))\n",
    "simulation.context.setVelocitiesToTemperature(150.0*unit.kelvin)\n",
    "simulation.step(2500)"
   ]
  },
  {
   "cell_type": "markdown",
   "metadata": {},
   "source": [
    "## Production\n",
    "\n",
    "Now we run a long MD simulation with parameters that are identical to the equilibration phase (other than simulation length, of course!).  We will also save a trajectory file (i.e., corodinats vs. time) of this simulation that we can analyze afterward using MDTraj (or other trajectory analysis tools)."
   ]
  },
  {
   "cell_type": "code",
   "execution_count": null,
   "metadata": {},
   "outputs": [],
   "source": [
    "print('Running Production...')\n",
    "\n",
    "tinit=time.time()\n",
    "simulation.reporters.clear()\n",
    "# output basic simulation information below every 250000 steps/500 ps\n",
    "simulation.reporters.append(app.StateDataReporter(stdout, 250000, \n",
    "    step=True, time=True, potentialEnergy=True, temperature=True, \n",
    "    speed=True, separator=','))\n",
    "# write out a trajectory (i.e., coordinates vs. time) to a DCD\n",
    "# file every 100 steps/0.2 ps\n",
    "simulation.reporters.append(app.DCDReporter('ethane_sim.dcd', 100))\n",
    "\n",
    "# run the simulation for 1.0x10^7 steps/20 ns\n",
    "simulation.step(10000000)\n",
    "tfinal=time.time()\n",
    "print('Done!')\n",
    "print('Time required for simulation:', tfinal-tinit, 'seconds')"
   ]
  },
  {
   "cell_type": "code",
   "execution_count": null,
   "metadata": {},
   "outputs": [],
   "source": []
  }
 ],
 "metadata": {
  "kernelspec": {
   "display_name": "Python 3",
   "language": "python",
   "name": "python3"
  },
  "language_info": {
   "codemirror_mode": {
    "name": "ipython",
    "version": 3
   },
   "file_extension": ".py",
   "mimetype": "text/x-python",
   "name": "python",
   "nbconvert_exporter": "python",
   "pygments_lexer": "ipython3",
   "version": "3.6.5"
  }
 },
 "nbformat": 4,
 "nbformat_minor": 2
}
