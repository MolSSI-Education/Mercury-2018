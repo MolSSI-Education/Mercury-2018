{
 "cells": [
  {
   "cell_type": "code",
   "execution_count": 1,
   "metadata": {},
   "outputs": [],
   "source": [
    "from simtk.openmm import app\n",
    "import simtk.openmm as mm\n",
    "from simtk import unit\n",
    "from sys import stdout\n",
    "import time as time\n",
    "\n",
    "# what follows is from the OpenMM script builder\n",
    "# with some minor modifications..."
   ]
  },
  {
   "cell_type": "markdown",
   "metadata": {},
   "source": [
    "## Simulation setup"
   ]
  },
  {
   "cell_type": "code",
   "execution_count": 3,
   "metadata": {},
   "outputs": [],
   "source": [
    "# read in a starting structure for ethane and the\n",
    "# corresponding force field file\n",
    "pdb = app.PDBFile('ethane.pdb')\n",
    "forcefield = app.ForceField('ethane.gaff2.xml')\n",
    "\n",
    "# setup system by taking topology from pdb file;\n",
    "# run gas phase simulation with 2 fs time step (using SHAKE)\n",
    "# at 298.15 K using a Langevin thermostat (integrator) with\n",
    "# coupling constant of 5.0 ps^-1\n",
    "system = forcefield.createSystem(pdb.topology, nonbondedMethod=app.NoCutoff, \n",
    "                                 constraints=app.HBonds)\n",
    "integrator = mm.LangevinIntegrator(298.15*unit.kelvin, 5.0/unit.picoseconds, \n",
    "                                   2.0*unit.femtoseconds)\n",
    "integrator.setConstraintTolerance(1e-5)\n",
    "\n",
    "platform = mm.Platform.getPlatformByName('Reference')\n",
    "simulation = app.Simulation(pdb.topology, system, integrator, platform)\n",
    "simulation.context.setPositions(pdb.positions)"
   ]
  },
  {
   "cell_type": "markdown",
   "metadata": {},
   "source": [
    "## Energy minimization\n",
    "\n",
    "This reduces the potential energy of the system before beginning dynamics. This eliminates \"bad\" (i.e., overly close) contacts and generally leads to more stable simulation behavior."
   ]
  },
  {
   "cell_type": "code",
   "execution_count": 4,
   "metadata": {},
   "outputs": [
    {
     "name": "stdout",
     "output_type": "stream",
     "text": [
      "Minimizing...\n",
      "Potential energy before minimization is 4.467818224810632 kJ/mol\n",
      "Potential energy after minimization is 4.390208155300384 kJ/mol\n"
     ]
    }
   ],
   "source": [
    "print('Minimizing...')\n",
    "\n",
    "st = simulation.context.getState(getPositions=True,getEnergy=True)\n",
    "print(\"Potential energy before minimization is %s\" % st.getPotentialEnergy())\n",
    "\n",
    "simulation.minimizeEnergy(maxIterations=100)\n",
    "\n",
    "st = simulation.context.getState(getPositions=True,getEnergy=True)\n",
    "print(\"Potential energy after minimization is %s\" % st.getPotentialEnergy())"
   ]
  },
  {
   "cell_type": "markdown",
   "metadata": {},
   "source": [
    "## Equilibration\n",
    "\n",
    "We will run a (very) short equilibration simulation to bring the molecule up to our desired temperature.  If this were a periodic system, we would also aim to bring the density/volume to equilibrium at the desired pressure."
   ]
  },
  {
   "cell_type": "code",
   "execution_count": 5,
   "metadata": {},
   "outputs": [
    {
     "name": "stdout",
     "output_type": "stream",
     "text": [
      "Equilibrating...\n",
      "#\"Step\",\"Potential Energy (kJ/mole)\",\"Temperature (K)\"\n",
      "100,8.865043098692343,317.9472039540707\n",
      "200,10.505824116117351,189.46036962689604\n",
      "300,19.64392725647435,134.00599159054832\n",
      "400,23.83005482847239,185.63894062224335\n",
      "500,18.228328633463356,444.33900306402364\n",
      "600,20.20804220847597,227.2016708268636\n",
      "700,16.422818620500262,143.9946204742783\n",
      "800,21.313265412928235,196.48446956419824\n",
      "900,35.96869163049726,292.3946048400646\n",
      "1000,24.904512756782047,378.0650760795068\n",
      "1100,24.06577456588326,228.04617809458435\n",
      "1200,32.94550810668696,178.07818910855917\n",
      "1300,18.388438570624235,238.26057139546273\n",
      "1400,21.960553380975604,237.17941528174197\n",
      "1500,12.118535788398635,143.5554571326151\n",
      "1600,16.554168274837934,357.8373189768155\n",
      "1700,27.23767318404014,292.3270073491811\n",
      "1800,12.84809274401041,150.57763074371954\n",
      "1900,14.994203486158021,283.67653396043414\n",
      "2000,18.121368091166573,226.18380954463825\n",
      "2100,19.512950306356846,361.054269043839\n",
      "2200,19.339072312570977,302.4907511371218\n",
      "2300,13.34351441676564,215.59064700811345\n",
      "2400,11.5506550965864,321.29794695700383\n",
      "2500,11.208681118360724,258.31013554200246\n"
     ]
    }
   ],
   "source": [
    "print('Equilibrating...')\n",
    "\n",
    "simulation.reporters.append(app.StateDataReporter(stdout, 100, step=True, \n",
    "    potentialEnergy=True, temperature=True, separator=','))\n",
    "simulation.context.setVelocitiesToTemperature(150.0*unit.kelvin)\n",
    "simulation.step(2500)"
   ]
  },
  {
   "cell_type": "markdown",
   "metadata": {},
   "source": [
    "## Production\n",
    "\n",
    "Now we run a long MD simulation with parameters that are identical to the equilibration phase (other than simulation length, of course!).  We will also save a trajectory file (i.e., corodinats vs. time) of this simulation that we can analyze afterward using MDTraj (or other trajectory analysis tools)."
   ]
  },
  {
   "cell_type": "code",
   "execution_count": 6,
   "metadata": {},
   "outputs": [
    {
     "name": "stdout",
     "output_type": "stream",
     "text": [
      "Running Production...\n",
      "#\"Step\",\"Time (ps)\",\"Potential Energy (kJ/mole)\",\"Temperature (K)\",\"Speed (ns/day)\"\n",
      "250000,500.0000000016593,24.082052627841453,334.94512034837794,0\n",
      "500000,999.9999999901769,25.344722414892193,234.91895323104566,2.15e+04\n",
      "750000,1499.9999999783536,32.28107266330788,373.1073664372917,2.23e+04\n",
      "1000000,1999.9999999665301,34.560289748553856,194.77691273286592,2.17e+04\n",
      "1250000,2499.9999999547067,33.40893301951798,515.3034378942702,2.15e+04\n",
      "1500000,2999.9999999428833,20.498903211479806,247.36017566284707,2.14e+04\n",
      "1750000,3499.99999993106,25.184885811088407,514.463754752582,2.14e+04\n",
      "2000000,3999.9999999192364,21.906141236767468,241.9436713736426,2.15e+04\n",
      "2250000,4499.9999999992715,15.720297440738353,292.8362127679243,2.15e+04\n",
      "2500000,5000.000000101135,22.837534145656008,266.72856430089047,2.15e+04\n",
      "2750000,5500.000000202998,23.870937262426096,331.880423579939,2.15e+04\n",
      "3000000,6000.000000304862,14.587143453109903,167.77322346389116,2.14e+04\n",
      "3250000,6500.000000406725,10.619156606584596,422.69504183060127,2.14e+04\n",
      "3500000,7000.0000005085885,13.228416327966626,245.55814698660578,2.11e+04\n",
      "3750000,7500.000000610452,15.680014983080266,371.0247895538579,2.09e+04\n",
      "4000000,8000.000000712315,21.173644824841375,212.2160595994483,2.09e+04\n",
      "4250000,8500.000000814178,21.971765114413785,403.4008755656556,2.09e+04\n",
      "4500000,9000.000000916041,9.318644122130415,411.8390494656767,2.09e+04\n",
      "4750000,9500.000001017905,14.395277960855033,378.2845185298153,2.09e+04\n",
      "5000000,10000.000001119768,20.961802088260754,181.48856308325736,2.09e+04\n",
      "5250000,10500.000001221631,16.71231264218455,228.37848974685494,2.08e+04\n",
      "5500000,11000.000001323495,26.837289841970243,165.07286533247245,2.07e+04\n",
      "5750000,11500.000001425358,39.00889904068219,319.4935318419898,2.07e+04\n",
      "6000000,12000.000001527222,31.778509105162527,415.48700716192286,2.08e+04\n",
      "6250000,12500.000001629085,14.729395530261513,285.145090620562,2.08e+04\n",
      "6500000,13000.000001730948,20.13657755046943,347.37746101657314,2.08e+04\n",
      "6750000,13500.000001832812,25.37911066088063,291.1975466701732,2.08e+04\n",
      "7000000,14000.000001934675,25.530523972160687,184.88959663010976,2.08e+04\n",
      "7250000,14500.000002036539,39.66880874884394,262.6926490156471,2.08e+04\n",
      "7500000,15000.000002138402,14.647124486923275,324.67132618030683,2.08e+04\n",
      "7750000,15500.000002240266,11.733779948076414,215.26136954089569,2.08e+04\n",
      "8000000,16000.000002342129,29.01493403391672,192.98801799929282,2.08e+04\n",
      "8250000,16500.00000244399,17.641415998509117,248.9072339426055,2.07e+04\n",
      "8500000,17000.000002545854,23.868964314392347,408.9015158318626,2.08e+04\n",
      "8750000,17500.000002647717,20.409621618149473,241.8357461462424,2.08e+04\n",
      "9000000,18000.00000274958,23.787496444209236,247.58577620450868,2.09e+04\n",
      "9250000,18500.000002851444,14.935968648415306,376.6630018161861,2.1e+04\n",
      "9500000,19000.000002953308,22.750366341586563,333.6677255939465,2.1e+04\n",
      "9750000,19500.00000305517,21.91566574936043,157.10836971466722,2.1e+04\n",
      "10000000,20000.000003157034,29.199171991789964,406.87304450147985,2.11e+04\n",
      "Done!\n",
      "Time required for simulation: 81.86101508140564 seconds\n"
     ]
    }
   ],
   "source": [
    "print('Running Production...')\n",
    "\n",
    "tinit=time.time()\n",
    "simulation.reporters.clear()\n",
    "# output basic simulation information below every 250000 steps/500 ps\n",
    "simulation.reporters.append(app.StateDataReporter(stdout, 250000, \n",
    "    step=True, time=True, potentialEnergy=True, temperature=True, \n",
    "    speed=True, separator=','))\n",
    "# write out a trajectory (i.e., coordinates vs. time) to a DCD\n",
    "# file every 100 steps/0.2 ps\n",
    "simulation.reporters.append(app.DCDReporter('ethane_sim.dcd', 100))\n",
    "\n",
    "# run the simulation for 1.0x10^7 steps/20 ns\n",
    "simulation.step(10000000)\n",
    "tfinal=time.time()\n",
    "print('Done!')\n",
    "print('Time required for simulation:', tfinal-tinit, 'seconds')"
   ]
  },
  {
   "cell_type": "code",
   "execution_count": null,
   "metadata": {},
   "outputs": [],
   "source": []
  }
 ],
 "metadata": {
  "kernelspec": {
   "display_name": "Python 3",
   "language": "python",
   "name": "python3"
  },
  "language_info": {
   "codemirror_mode": {
    "name": "ipython",
    "version": 3
   },
   "file_extension": ".py",
   "mimetype": "text/x-python",
   "name": "python",
   "nbconvert_exporter": "python",
   "pygments_lexer": "ipython3",
   "version": "3.6.5"
  }
 },
 "nbformat": 4,
 "nbformat_minor": 2
}
