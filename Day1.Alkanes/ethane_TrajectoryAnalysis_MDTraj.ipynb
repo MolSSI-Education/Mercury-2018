{
 "cells": [
  {
   "cell_type": "code",
   "execution_count": null,
   "metadata": {},
   "outputs": [],
   "source": [
    "import mdtraj as md\n",
    "import numpy as np\n",
    "import matplotlib.pyplot as plt\n",
    "import statsmodels.api as sm\n",
    "import nglview as ngl\n",
    "%matplotlib inline"
   ]
  },
  {
   "cell_type": "markdown",
   "metadata": {},
   "source": [
    "## Read in the MD trajectory\n",
    "\n",
    "Below we read in the production simulation trajectory using the topology available in the PDB file of the starting structure."
   ]
  },
  {
   "cell_type": "code",
   "execution_count": null,
   "metadata": {},
   "outputs": [],
   "source": [
    "traj = md.load('ethane_sim.dcd', top='ethane.pdb')\n",
    "atoms, bonds = traj.topology.to_dataframe()\n",
    "atoms"
   ]
  },
  {
   "cell_type": "markdown",
   "metadata": {
    "collapsed": true
   },
   "source": [
    "## Analyzing the H-C-C-H torsion"
   ]
  },
  {
   "cell_type": "code",
   "execution_count": null,
   "metadata": {},
   "outputs": [],
   "source": [
    "phi_indices = [1, 0, 4, 5] # atoms to define the torsion angle\n",
    "phi = md.compute_dihedrals(traj, [phi_indices])\n",
    "\n",
    "phicounts, binedges, otherstuff = plt.hist(phi, bins=120) # create a histogram with 90 bins\n",
    "plt.title('H-C-C-H torsion angle')\n",
    "plt.xlabel(r'$\\phi$ (rad)')\n",
    "plt.ylabel('Counts')\n",
    "plt.show()"
   ]
  },
  {
   "cell_type": "code",
   "execution_count": null,
   "metadata": {},
   "outputs": [],
   "source": [
    "kB = 8.31446/1000 # Boltzmann constant in kcal/mol\n",
    "Temp = 298.15 # simulation temperature\n",
    "phicounts[phicounts==0] = 0.1 # get rid of any bins with 0 counts/infinite energy\n",
    "pmf = -kB*Temp*np.log(phicounts) # W(x) = -kT*ln[p(x)] = -kT*ln[n(x)] + C\n",
    "pmf = pmf - np.min(pmf) # subtract off minimum value so that energies start from 0\n",
    "\n",
    "bincenters = (binedges[1:] + binedges[:-1])/2 # compute centers of histogram bins\n",
    "\n",
    "plt.plot(bincenters, pmf)\n",
    "plt.title('H-C-C-H torsion pmf')\n",
    "plt.xlabel(r'$\\phi$ (rad)')\n",
    "plt.ylabel('Relative free energy (kJ/mol)')\n",
    "plt.show()"
   ]
  },
  {
   "cell_type": "markdown",
   "metadata": {},
   "source": [
    "This pmf isn't very smooth – especially near the free energy maxima – due to the finite sampling inherent to our relatively short simulation.  Let's try to smooth it out using the LOWESS (locally weighted scatterplot smoothing) algorithm:"
   ]
  },
  {
   "cell_type": "code",
   "execution_count": null,
   "metadata": {},
   "outputs": [],
   "source": [
    "pmf_smoothed = sm.nonparametric.lowess(pmf, bincenters, frac=0.05)\n",
    "plt.plot(pmf_smoothed[:,0], pmf_smoothed[:,1])\n",
    "plt.title('H-C-C-H torsion pmf')\n",
    "plt.xlabel(r'$\\phi$ (rad)')\n",
    "plt.ylabel('Relative free energy (kJ/mol)')\n",
    "plt.show()"
   ]
  },
  {
   "cell_type": "markdown",
   "metadata": {},
   "source": [
    "Overall this matches our expectation for rotating ethane about the C-C bond: there should be three identical minima and maxima corresponding to the H atoms being staggered or overlapped, respectively."
   ]
  },
  {
   "cell_type": "markdown",
   "metadata": {},
   "source": [
    "## Analyzing the C-C bond length"
   ]
  },
  {
   "cell_type": "code",
   "execution_count": null,
   "metadata": {},
   "outputs": [],
   "source": [
    "bond_indices = [0, 4] # atoms to define the bond length\n",
    "bondlength = md.compute_distances(traj, [bond_indices])\n",
    "\n",
    "bondcounts, binedges, otherstuff = plt.hist(bondlength, bins=120)\n",
    "plt.title('C-C bond length histogram')\n",
    "plt.xlabel('Bond length (nm)')\n",
    "plt.ylabel('Counts')\n",
    "plt.show()"
   ]
  },
  {
   "cell_type": "code",
   "execution_count": null,
   "metadata": {},
   "outputs": [],
   "source": [
    "bondcounts[bondcounts==0] = 0.1\n",
    "pmf = -kB*Temp*np.log(bondcounts)\n",
    "pmf = pmf - np.min(pmf)\n",
    "\n",
    "bincenters = (binedges[1:] + binedges[:-1])/2\n",
    "\n",
    "pmf_smoothed = sm.nonparametric.lowess(pmf, bincenters, frac=0.05)\n",
    "pmf_s = pmf_smoothed[:,1] - np.min(pmf_smoothed[:,1])\n",
    "\n",
    "plt.plot(bincenters, pmf_s)\n",
    "plt.xlabel('Bond length (nm)')\n",
    "plt.ylabel('Relative free energy (kJ/mol)')\n",
    "plt.title('C-C bond length pmf')\n",
    "plt.show()"
   ]
  },
  {
   "cell_type": "markdown",
   "metadata": {},
   "source": [
    "The curve looks a bit jagged for the high energy regions of the pmf, mainly due to the lack of statistics accumulated there. Let's make a plot that includes only bond lengths with a relative free energy of <15 kJ/mol using Python's subsetting ability."
   ]
  },
  {
   "cell_type": "code",
   "execution_count": null,
   "metadata": {},
   "outputs": [],
   "source": [
    "plt.plot(bincenters[pmf_s < 15], pmf_s[pmf_s < 15])\n",
    "plt.xlabel('Bond length (nm)')\n",
    "plt.ylabel('Relative free energy (kJ/mol)')\n",
    "plt.title('C-C bond length pmf')\n",
    "plt.show()"
   ]
  },
  {
   "cell_type": "markdown",
   "metadata": {},
   "source": [
    "This looks pretty good!  We see that the pmf for the C-C bond length is parabolic, which reflects the underlying harmonic potential for the C-C bond."
   ]
  },
  {
   "cell_type": "markdown",
   "metadata": {},
   "source": [
    "## Visualizing the trajectory using NGLview"
   ]
  },
  {
   "cell_type": "code",
   "execution_count": null,
   "metadata": {},
   "outputs": [],
   "source": [
    "visualize = ngl.show_mdtraj(traj)\n",
    "visualize"
   ]
  },
  {
   "cell_type": "code",
   "execution_count": null,
   "metadata": {},
   "outputs": [],
   "source": []
  }
 ],
 "metadata": {
  "kernelspec": {
   "display_name": "Python 3",
   "language": "python",
   "name": "python3"
  },
  "language_info": {
   "codemirror_mode": {
    "name": "ipython",
    "version": 3
   },
   "file_extension": ".py",
   "mimetype": "text/x-python",
   "name": "python",
   "nbconvert_exporter": "python",
   "pygments_lexer": "ipython3",
   "version": "3.6.5"
  }
 },
 "nbformat": 4,
 "nbformat_minor": 2
}
